{
 "cells": [
  {
   "cell_type": "code",
   "execution_count": null,
   "id": "3b000760",
   "metadata": {},
   "outputs": [],
   "source": []
  },
  {
   "cell_type": "code",
   "execution_count": null,
   "id": "2a4f4fda",
   "metadata": {},
   "outputs": [
    {
     "name": "stdout",
     "output_type": "stream",
     "text": [
      " * Serving Flask app \"__main__\" (lazy loading)\n",
      " * Environment: production\n",
      "   WARNING: This is a development server. Do not use it in a production deployment.\n",
      "   Use a production WSGI server instead.\n",
      " * Debug mode: off\n"
     ]
    },
    {
     "name": "stderr",
     "output_type": "stream",
     "text": [
      " * Running on http://0.0.0.0:5000/ (Press CTRL+C to quit)\n",
      "192.168.1.107 - - [11/Jun/2022 14:10:57] \"\u001b[37mGET / HTTP/1.1\u001b[0m\" 200 -\n",
      "192.168.1.107 - - [11/Jun/2022 14:11:05] \"\u001b[37mGET / HTTP/1.1\u001b[0m\" 200 -\n",
      "192.168.1.101 - - [11/Jun/2022 14:19:44] \"\u001b[37mGET / HTTP/1.1\u001b[0m\" 200 -\n"
     ]
    }
   ],
   "source": [
    "from flask import Flask\n",
    "\n",
    "# Flask Constructor\n",
    "app = Flask(__name__)\n",
    " \n",
    "# decorator to associate\n",
    "# a function with the url\n",
    "@app.route(\"/\")\n",
    "def showHomePage():\n",
    "      # response from the server\n",
    "    return \"This is  page\"\n",
    "\n",
    "if __name__ == \"__main__\":\n",
    "    app.run(host=\"0.0.0.0\")"
   ]
  },
  {
   "cell_type": "code",
   "execution_count": null,
   "id": "5ef22c9b",
   "metadata": {},
   "outputs": [],
   "source": [
    "192.168.1.107"
   ]
  }
 ],
 "metadata": {
  "kernelspec": {
   "display_name": "Python 3",
   "language": "python",
   "name": "python3"
  },
  "language_info": {
   "codemirror_mode": {
    "name": "ipython",
    "version": 3
   },
   "file_extension": ".py",
   "mimetype": "text/x-python",
   "name": "python",
   "nbconvert_exporter": "python",
   "pygments_lexer": "ipython3",
   "version": "3.8.8"
  }
 },
 "nbformat": 4,
 "nbformat_minor": 5
}
