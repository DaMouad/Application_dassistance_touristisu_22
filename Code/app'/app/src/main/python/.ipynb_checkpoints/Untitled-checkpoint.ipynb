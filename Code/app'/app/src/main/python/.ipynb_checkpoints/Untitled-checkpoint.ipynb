{
 "cells": [
  {
   "cell_type": "code",
   "execution_count": null,
   "id": "6eb5e23c",
   "metadata": {},
   "outputs": [],
   "source": [
    "import operator\n",
    "from numpy import load\n",
    "import faiss \n",
    "\n",
    "import pandas as pd\n",
    "import numpy as np\n",
    "import os \n",
    "import re\n",
    "\n",
    "import nltk \n",
    "from nltk import pos_tag\n",
    "from nltk.stem import WordNetLemmatizer\n",
    "from collections import defaultdict\n",
    "from nltk.corpus import wordnet as wn"
   ]
  },
  {
   "cell_type": "code",
   "execution_count": null,
   "id": "2e9f7430",
   "metadata": {},
   "outputs": [],
   "source": []
  },
  {
   "cell_type": "code",
   "execution_count": null,
   "id": "11b1b6a5",
   "metadata": {},
   "outputs": [],
   "source": [
    "df_hot=pd.read_csv(\"hotels.csv\")\n",
    "df_resto=pd.read_csv('restaurants.csv')\n",
    "df_att=pd.read_csv('attractions.csv')"
   ]
  },
  {
   "cell_type": "code",
   "execution_count": null,
   "id": "62acc5b0",
   "metadata": {},
   "outputs": [],
   "source": [
    "def search_bert(query,cat):\n",
    "    \n",
    "    if cat==1:  #Hotels\n",
    "        query.replace(\"stars\",\"\")\n",
    "        \n",
    "        sbert_model = SentenceTransformer(\"sbert_model\") \n",
    "        sentence_embeddings = load('bert_embeddings.npy')\n",
    "        d=sentence_embeddings.shape[1]\n",
    "        index = faiss.IndexFlatL2(d)   \n",
    "        index.train(sentence_embeddings) \n",
    "        index.add(sentence_embeddings) \n",
    "        xb=sbert_model.encode([query])\n",
    "        D,I=index.search(xb,10)\n",
    "        sentences=df_hot['info'].to_list()\n",
    "        return D,I,sentences\n",
    "    elif cat==2: #restaurants\n",
    "        \n",
    "        sbert_model = SentenceTransformer(\"sbert_model\") \n",
    "        sentence_embeddings = load('rbert_embeddings.npy')\n",
    "        d=sentence_embeddings.shape[1]\n",
    "        index = faiss.IndexFlatL2(d)   \n",
    "        index.train(sentence_embeddings) \n",
    "        index.add(sentence_embeddings) \n",
    "        xb=sbert_model.encode([query])\n",
    "        D,I=index.search(xb,10)\n",
    "        sentences=df_att['info'].to_list()\n",
    "        return D,I,sentences\n",
    "    \n",
    "    elif cat==3:\n",
    "        \n",
    "        sbert_model = SentenceTransformer(\"sbert_model\") \n",
    "        sentence_embeddings = load('abert_embeddings.npy')\n",
    "        d=sentence_embeddings.shape[1]\n",
    "        index = faiss.IndexFlatL2(d)   \n",
    "        index.train(sentence_embeddings) \n",
    "        index.add(sentence_embeddings) \n",
    "        xb=sbert_model.encode([query])\n",
    "        D,I=index.search(xb,10)\n",
    "        sentences=df_att['info'].to_list()\n",
    "        return D,I,sentences"
   ]
  },
  {
   "cell_type": "code",
   "execution_count": null,
   "id": "428fc3f3",
   "metadata": {},
   "outputs": [],
   "source": []
  },
  {
   "cell_type": "code",
   "execution_count": null,
   "id": "92ffb798",
   "metadata": {},
   "outputs": [],
   "source": [
    "%%time\n",
    "D,I,sentences=search_bert(query,3)\n",
    "# D,I,sentences=search_tfidf(\"jamaa elfna\",3)\n",
    "for i in range(10): \n",
    "            print(\"Sentence = \", sentences[I[0,i]])\n",
    "            print(\"-----------------------------------------------------------\\n\") "
   ]
  },
  {
   "cell_type": "code",
   "execution_count": null,
   "id": "4c1298db",
   "metadata": {},
   "outputs": [],
   "source": [
    "def return_res(query):\n",
    "    df_res=pd.DataFrame()\n",
    "    D,I,sentences=search_bert(query,1)\n",
    "    for i in range(10):\n",
    "            df_res=df_res.append(df_hot[int(I[0,i]):int(I[0,i])+1], ignore_index=True) \n",
    "            print(\"-----------------------------------------------------------\\n\")\n",
    "    data = df_res.to_json(orient='index')\n",
    "    data=str(data)\n",
    "    data=data.replace('\"', '\\\\\"')\n",
    "    return data"
   ]
  },
  {
   "cell_type": "code",
   "execution_count": null,
   "id": "1d0f1983",
   "metadata": {},
   "outputs": [],
   "source": []
  }
 ],
 "metadata": {
  "kernelspec": {
   "display_name": "Python 3",
   "language": "python",
   "name": "python3"
  },
  "language_info": {
   "codemirror_mode": {
    "name": "ipython",
    "version": 3
   },
   "file_extension": ".py",
   "mimetype": "text/x-python",
   "name": "python",
   "nbconvert_exporter": "python",
   "pygments_lexer": "ipython3",
   "version": "3.8.8"
  }
 },
 "nbformat": 4,
 "nbformat_minor": 5
}
