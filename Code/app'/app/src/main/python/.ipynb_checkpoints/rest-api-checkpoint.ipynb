{
 "cells": [
  {
   "cell_type": "code",
   "execution_count": null,
   "id": "3b000760",
   "metadata": {},
   "outputs": [],
   "source": []
  },
  {
   "cell_type": "code",
   "execution_count": null,
   "id": "2a4f4fda",
   "metadata": {},
   "outputs": [],
   "source": [
    "from flask import Flask\n",
    " \n",
    "# Flask Constructor\n",
    "app = Flask(__name__)\n",
    " \n",
    "# decorator to associate\n",
    "# a function with the url\n",
    "@app.route(\"/\")\n",
    "def showHomePage():\n",
    "      # response from the server\n",
    "    return \"This is home page\"\n",
    "\n",
    "if __name__ == \"__main__\":\n",
    "    app.run(host=\"0.0.0.0\")"
   ]
  },
  {
   "cell_type": "code",
   "execution_count": null,
   "id": "5ef22c9b",
   "metadata": {},
   "outputs": [],
   "source": []
  }
 ],
 "metadata": {
  "kernelspec": {
   "display_name": "Python 3",
   "language": "python",
   "name": "python3"
  },
  "language_info": {
   "codemirror_mode": {
    "name": "ipython",
    "version": 3
   },
   "file_extension": ".py",
   "mimetype": "text/x-python",
   "name": "python",
   "nbconvert_exporter": "python",
   "pygments_lexer": "ipython3",
   "version": "3.8.8"
  }
 },
 "nbformat": 4,
 "nbformat_minor": 5
}
