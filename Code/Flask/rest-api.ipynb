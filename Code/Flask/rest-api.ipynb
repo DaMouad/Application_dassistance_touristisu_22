{
 "cells": [
  {
   "cell_type": "markdown",
   "id": "0bbd46d0",
   "metadata": {},
   "source": [
    "--------------------------------"
   ]
  },
  {
   "cell_type": "code",
   "execution_count": 1,
   "id": "47f91ac5",
   "metadata": {},
   "outputs": [],
   "source": [
    "import operator\n",
    "from numpy import load\n",
    "import faiss \n",
    "\n",
    "import pandas as pd\n",
    "import numpy as np\n",
    "import os \n",
    "import re\n",
    "\n",
    "import nltk \n",
    "from nltk import pos_tag\n",
    "from nltk.stem import WordNetLemmatizer\n",
    "from collections import defaultdict\n",
    "from nltk.corpus import wordnet as wn\n",
    "from sentence_transformers import SentenceTransformer"
   ]
  },
  {
   "cell_type": "code",
   "execution_count": 2,
   "id": "1d8d513a",
   "metadata": {},
   "outputs": [],
   "source": [
    "df_hot=pd.read_csv(\"HotelsFinal.csv\",index_col=0)\n",
    "df_resto=pd.read_csv(\"RestaurantsFinal.csv\",index_col=0)\n",
    "df_att=pd.read_csv(\"AttractionsFinal.csv\",index_col=0)\n",
    "df_hot['id']=[str(i) for i in range(len(df_hot))]\n",
    "del df_hot[\"dist\"]\n",
    "df_resto['id']=[str(i) for i in range(len(df_resto))] \n",
    "df_att['id']=[str(i) for i in range(len(df_att))]\n",
    "df_hot=df_hot.fillna(\" \")\n",
    "for i in range(len(df_hot[\"Description\"])) : \n",
    "    df_hot[\"Description\"][i]=df_hot[\"Description\"][i].replace('\"',\"'\")\n",
    "for i in range(len(df_hot[\"info\"])) : \n",
    "    df_hot[\"info\"][i]=df_hot[\"info\"][i].replace('\"',\"'\")\n",
    "df_resto=df_resto.fillna(\" \")\n",
    "df_att=df_att.fillna(\" \")\n",
    "for i in range(len(df_att[\"description\"])) : \n",
    "    df_att[\"description\"][i]=df_att[\"description\"][i].replace('\"',\"'\")\n",
    "for i in range(len(df_att[\"info\"])) : \n",
    "    df_att[\"info\"][i]=df_att[\"info\"][i].replace('\"',\"'\")\n",
    "for i in range(len(df_resto[\"info\"])) : \n",
    "    df_resto[\"info\"][i]=df_resto[\"info\"][i].replace('\"',\"'\")    \n",
    "for i in range(len(df_resto[\"ad_about\"])) : \n",
    "    df_resto[\"ad_about\"][i]=df_resto[\"ad_about\"][i].replace('\"',\"'\")\n",
    "    \n",
    "def search_bert(query,cat):\n",
    "    \n",
    "    if cat==1:  #Hotels\n",
    "        query.replace(\"stars\",\"\")\n",
    "        \n",
    "        sbert_model = SentenceTransformer(\"sbert_model\") \n",
    "        sentence_embeddings = load('bert_embeddings.npy')\n",
    "        d=sentence_embeddings.shape[1]\n",
    "        index = faiss.IndexFlatL2(d)   \n",
    "        index.train(sentence_embeddings) \n",
    "        index.add(sentence_embeddings) \n",
    "        xb=sbert_model.encode([query])\n",
    "        D,I=index.search(xb,1800)\n",
    "        sentences=df_hot['info'].to_list()\n",
    "        return D,I,sentences\n",
    "    elif cat==2: #restaurants\n",
    "        \n",
    "        sbert_model = SentenceTransformer(\"sbert_model\") \n",
    "        sentence_embeddings = load('rbert_embeddings.npy')\n",
    "        d=sentence_embeddings.shape[1]\n",
    "        index = faiss.IndexFlatL2(d)   \n",
    "        index.train(sentence_embeddings) \n",
    "        index.add(sentence_embeddings) \n",
    "        xb=sbert_model.encode([query])\n",
    "        D,I=index.search(xb,1200)\n",
    "        sentences=df_resto['info'].to_list()\n",
    "        return D,I,sentences\n",
    "    \n",
    "    elif cat==3:\n",
    "        \n",
    "        sbert_model = SentenceTransformer(\"sbert_model\") \n",
    "        sentence_embeddings = load('abert_embeddings.npy')\n",
    "        d=sentence_embeddings.shape[1]\n",
    "        index = faiss.IndexFlatL2(d)   \n",
    "        index.train(sentence_embeddings) \n",
    "        index.add(sentence_embeddings) \n",
    "        xb=sbert_model.encode([query])\n",
    "        D,I=index.search(xb,58)\n",
    "        sentences=df_att['info'].to_list()\n",
    "        return D,I,sentences\n",
    "def return_res(query,cat):\n",
    "    if cat==1:\n",
    "        D,I,sentences=search_bert(query,1)\n",
    "        data=\"\"\n",
    "        for i in range(len(I[0])):\n",
    "            if(i!=0):\n",
    "                data+=\",\"\n",
    "            data+=str((I[0,i]))\n",
    "        return str(data) \n",
    "    elif cat==2: \n",
    "        D,I,sentences=search_bert(query,2)\n",
    "        data=\"\"\n",
    "        for i in range(len(I[0])):\n",
    "            if(i!=0):\n",
    "                data+=\",\"\n",
    "            data+=str((I[0,i]))\n",
    "        return str(data) \n",
    "    elif cat==3: \n",
    "        D,I,sentences=search_bert(query,3)\n",
    "        data=\"\"\n",
    "        for i in range(len(I[0])):\n",
    "            if(i!=0):\n",
    "                data+=\",\"\n",
    "            data+=str((I[0,i]))\n",
    "        return str(data)  "
   ]
  },
  {
   "cell_type": "code",
   "execution_count": 3,
   "id": "94ebed2d",
   "metadata": {
    "scrolled": true
   },
   "outputs": [
    {
     "name": "stdout",
     "output_type": "stream",
     "text": [
      " * Serving Flask app \"__main__\" (lazy loading)\n",
      " * Environment: production\n",
      "   WARNING: This is a development server. Do not use it in a production deployment.\n",
      "   Use a production WSGI server instead.\n",
      " * Debug mode: off\n"
     ]
    },
    {
     "name": "stderr",
     "output_type": "stream",
     "text": [
      " * Running on http://0.0.0.0:5000/ (Press CTRL+C to quit)\n"
     ]
    },
    {
     "name": "stdout",
     "output_type": "stream",
     "text": [
      "Asian Restaurant\n"
     ]
    },
    {
     "name": "stderr",
     "output_type": "stream",
     "text": [
      "192.168.1.102 - - [28/Jun/2022 18:18:44] \"\u001b[37mPOST /searchRestaurants HTTP/1.1\u001b[0m\" 200 -\n"
     ]
    },
    {
     "name": "stdout",
     "output_type": "stream",
     "text": [
      "Asian Restaurant\n"
     ]
    },
    {
     "name": "stderr",
     "output_type": "stream",
     "text": [
      "192.168.1.102 - - [28/Jun/2022 18:18:58] \"\u001b[37mPOST /searchRestaurants HTTP/1.1\u001b[0m\" 200 -\n"
     ]
    },
    {
     "name": "stdout",
     "output_type": "stream",
     "text": [
      "Koutoubia Mosque\n"
     ]
    },
    {
     "name": "stderr",
     "output_type": "stream",
     "text": [
      "192.168.1.102 - - [28/Jun/2022 18:20:53] \"\u001b[37mPOST /searchAttractions HTTP/1.1\u001b[0m\" 200 -\n"
     ]
    },
    {
     "name": "stdout",
     "output_type": "stream",
     "text": [
      "Koutoubia Mosque\n"
     ]
    },
    {
     "name": "stderr",
     "output_type": "stream",
     "text": [
      "192.168.1.102 - - [28/Jun/2022 18:21:35] \"\u001b[37mPOST /searchAttractions HTTP/1.1\u001b[0m\" 200 -\n"
     ]
    },
    {
     "name": "stdout",
     "output_type": "stream",
     "text": [
      "Asian Restaurant\n"
     ]
    },
    {
     "name": "stderr",
     "output_type": "stream",
     "text": [
      "192.168.1.102 - - [28/Jun/2022 18:22:10] \"\u001b[37mPOST /searchRestaurants HTTP/1.1\u001b[0m\" 200 -\n"
     ]
    },
    {
     "name": "stdout",
     "output_type": "stream",
     "text": [
      "user\n",
      "5.0\n",
      "i like the app , but can you add comments \n"
     ]
    },
    {
     "name": "stderr",
     "output_type": "stream",
     "text": [
      "192.168.1.102 - - [28/Jun/2022 18:23:35] \"\u001b[37mPOST /rate HTTP/1.1\u001b[0m\" 200 -\n"
     ]
    }
   ],
   "source": [
    "from flask import Flask, jsonify,request \n",
    "from googletrans import Translator\n",
    "\n",
    "app = Flask(__name__) \n",
    "# decorator to associate\n",
    "# a function with the url \n",
    "@app.route(\"/searchHotel\",methods=['POST']) \n",
    "def  searchHotel():\n",
    "    if request.method == 'POST':    \n",
    "        translator = Translator()\n",
    "        query=request.form[\"message\"]\n",
    "        logha=request.form[\"logha\"]\n",
    "        if(logha==\"English\") : src1=\"en\"\n",
    "        if(logha==\"French\") : src1=\"fr\"\n",
    "        if(logha==\"Arabic\") : src1=\"ar\"\n",
    "        if(logha==\"Spanish\") : src1=\"es\"\n",
    "        translation=translator.translate(query, src=src1,dest='en')\n",
    "        query=translation.text\n",
    "        print(query) \n",
    "        res=return_res(query,1)\n",
    "#         print(res)\n",
    "        return res\n",
    "    else:\n",
    "        return \"error\" \n",
    "    \n",
    "@app.route(\"/searchRestaurants\",methods=['POST'])\n",
    "def  searchRestaurant():\n",
    "    if request.method == 'POST':    \n",
    "        translator = Translator()\n",
    "        query=request.form[\"message\"]\n",
    "        logha=request.form[\"logha\"]\n",
    "        if(logha==\"English\") : src1=\"en\"\n",
    "        if(logha==\"French\") : src1=\"fr\"\n",
    "        if(logha==\"Arabic\") : src1=\"ar\"\n",
    "        if(logha==\"Spanish\") : src1=\"es\"\n",
    "        translation=translator.translate(query, src=src1,dest='en')\n",
    "        query=translation.text\n",
    "        print(query) \n",
    "        res=return_res(query,2)\n",
    "#         print(res)\n",
    "        return res\n",
    "    else:\n",
    "        return \"error\"\n",
    "@app.route(\"/searchAttractions\",methods=['POST'])\n",
    "def  searchAttractions():\n",
    "    if request.method == 'POST':   \n",
    "        translator = Translator() \n",
    "        query=request.form[\"message\"] \n",
    "        logha=request.form[\"logha\"]\n",
    "        if(logha==\"English\") : src1=\"en\"\n",
    "        if(logha==\"French\") : src1=\"fr\"\n",
    "        if(logha==\"Arabic\") : src1=\"ar\" \n",
    "        if(logha==\"Spanish\") : src1=\"es\"\n",
    "        translation=translator.translate(query, src=src1,dest='en') \n",
    "        query=translation.text \n",
    "        print(query) \n",
    "        res=return_res(query,3)\n",
    "#         print(res) \n",
    "        return res\n",
    "    else:\n",
    "        return \"error\" \n",
    "\n",
    "\n",
    "@app.route(\"/rate\",methods=['POST'])\n",
    "def rate():\n",
    "    df_rate=pd.read_csv(\"rateOurApp.csv\",index_col=0)\n",
    "    if request.method == 'POST':      \n",
    "        rate =request.form[\"Rate\"]\n",
    "        username =request.form[\"username\"]\n",
    "        review =request.form[\"review\"]\n",
    "        print(username)\n",
    "        print(rate)\n",
    "        print(review)\n",
    "        df_rate=df_rate.append({\"Username\":username,\"Rate\":rate,\"Review\":review},ignore_index=True)\n",
    "        df_rate.to_csv(\"rateOurApp.csv\")\n",
    "        return rate\n",
    "    else: \n",
    "        return \"error\" \n",
    "    \n",
    "if __name__ == \"__main__\":\n",
    "    app.run(host=\"0.0.0.0\") "
   ]
  },
  {
   "cell_type": "code",
   "execution_count": null,
   "id": "a577ed67",
   "metadata": {},
   "outputs": [],
   "source": []
  }
 ],
 "metadata": {
  "kernelspec": {
   "display_name": "Python 3",
   "language": "python",
   "name": "python3"
  },
  "language_info": {
   "codemirror_mode": {
    "name": "ipython",
    "version": 3
   },
   "file_extension": ".py",
   "mimetype": "text/x-python",
   "name": "python",
   "nbconvert_exporter": "python",
   "pygments_lexer": "ipython3",
   "version": "3.8.8"
  }
 },
 "nbformat": 4,
 "nbformat_minor": 5
}
